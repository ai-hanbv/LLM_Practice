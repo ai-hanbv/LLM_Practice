{
 "cells": [
  {
   "cell_type": "code",
   "execution_count": 15,
   "metadata": {},
   "outputs": [
    {
     "name": "stdout",
     "output_type": "stream",
     "text": [
      "The following packages are already present in the pyproject.toml and will be skipped:\n",
      "\n",
      "  - langchain_openai\n",
      "  - langgraph\n",
      "  - python-dotenv\n",
      "  - langfuse\n",
      "  - langchain_community\n",
      "  - langchain_chroma\n",
      "\n",
      "If you want to update it to the latest compatible version, you can use `poetry update package`.\n",
      "If you prefer to upgrade it to the latest available version, you can use `poetry add package@latest`.\n",
      "\n",
      "Using version ^1.25.3 for pymupdf\n",
      "\n",
      "Updating dependencies\n",
      "Resolving dependencies...\n",
      "\n",
      "Package operations: 1 install, 0 updates, 0 removals\n",
      "\n",
      "  - Installing pymupdf (1.25.3)\n",
      "\n",
      "Writing lock file\n"
     ]
    }
   ],
   "source": [
    "!poetry add langchain_openai langgraph python-dotenv langfuse langchain_community langchain_chroma PyMuPDF"
   ]
  },
  {
   "cell_type": "markdown",
   "metadata": {},
   "source": [
    "## 에이전트\n",
    "\n",
    "### 도구\n",
    "\n",
    "```python\n",
    "from langchain.tools import tool\n",
    "```\n",
    "해당 라이브러리를 사용해서 사용자 정의의 도구를 만들 수 있다.\n",
    "\n",
    "사용 방법은 데코레이터 정의처럼 @tool 을 사용하면 agent에 활용할 수 있는 도구가 된다."
   ]
  },
  {
   "cell_type": "markdown",
   "metadata": {},
   "source": [
    "### 도구 구현\n",
    "1. RAG\n",
    "2. 단순 계산\n",
    "3. 기타... (미정)"
   ]
  },
  {
   "cell_type": "code",
   "execution_count": null,
   "metadata": {},
   "outputs": [
    {
     "data": {
      "text/plain": [
       "True"
      ]
     },
     "execution_count": 11,
     "metadata": {},
     "output_type": "execute_result"
    }
   ],
   "source": [
    "from langchain_chroma import Chroma\n",
    "from dotenv import load_dotenv\n",
    "from langchain_openai import ChatOpenAI, OpenAIEmbeddings\n",
    "from langchain.tools import tool\n",
    "# 문서 로드 - 전처리 - 청크 스플릿 - (임베딩 - 백터스토어 저장)\n",
    "from langchain_community.document_loaders import PyMuPDFLoader\n",
    "from langchain_text_splitters import RecursiveCharacterTextSplitter\n",
    "\n",
    "\n",
    "load_dotenv()"
   ]
  },
  {
   "cell_type": "code",
   "execution_count": 19,
   "metadata": {},
   "outputs": [
    {
     "name": "stdout",
     "output_type": "stream",
     "text": [
      "68\n"
     ]
    }
   ],
   "source": [
    "### 문서 로드\n",
    "loader = PyMuPDFLoader(\"./docs/제254호 과학기술&ICT 정책.기술동향.pdf\")\n",
    "document = loader.load()\n",
    "print(len(document))"
   ]
  },
  {
   "cell_type": "code",
   "execution_count": null,
   "metadata": {},
   "outputs": [],
   "source": [
    "### 문서 스플릿\n",
    "\n",
    "splitter = RecursiveCharacterTextSplitter()\n",
    "splited_document = splitter.split_documents(document)"
   ]
  },
  {
   "cell_type": "code",
   "execution_count": null,
   "metadata": {},
   "outputs": [],
   "source": [
    "vectorstore = Chroma(\n",
    "    \"science_trend\",\n",
    "    OpenAIEmbeddings(),\n",
    "    \"./chroma/\"\n",
    ")"
   ]
  },
  {
   "cell_type": "code",
   "execution_count": null,
   "metadata": {},
   "outputs": [],
   "source": [
    "mmr_retriever = vectorstore.as_retriever(\n",
    "    search_type = \"mmr\",\n",
    "    search_kwargs = {\"k\" : 5}\n",
    ")"
   ]
  },
  {
   "cell_type": "code",
   "execution_count": null,
   "metadata": {},
   "outputs": [],
   "source": [
    "\n",
    "@tool\n",
    "def search_vector(query : str):\n",
    "    \"\"\"\"\"\"\n"
   ]
  }
 ],
 "metadata": {
  "kernelspec": {
   "display_name": "modu-5w70wF48-py3.11",
   "language": "python",
   "name": "python3"
  },
  "language_info": {
   "codemirror_mode": {
    "name": "ipython",
    "version": 3
   },
   "file_extension": ".py",
   "mimetype": "text/x-python",
   "name": "python",
   "nbconvert_exporter": "python",
   "pygments_lexer": "ipython3",
   "version": "3.11.9"
  }
 },
 "nbformat": 4,
 "nbformat_minor": 2
}
