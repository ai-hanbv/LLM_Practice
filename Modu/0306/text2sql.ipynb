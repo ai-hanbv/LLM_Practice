{
 "cells": [
  {
   "cell_type": "code",
   "execution_count": null,
   "metadata": {},
   "outputs": [],
   "source": [
    "from langchain_ollama import OllamaEmbeddings\n",
    "from langchain_core.vectorstores import InMemoryVectorStore\n",
    "import pandas as pd\n",
    "import sqlite3"
   ]
  },
  {
   "cell_type": "code",
   "execution_count": null,
   "metadata": {},
   "outputs": [],
   "source": [
    "# 데이터베이스 생성\n",
    "conn = sqlite3.connect(\"etf_database.db\")\n",
    "cursor = conn.cursor()"
   ]
  },
  {
   "cell_type": "code",
   "execution_count": null,
   "metadata": {},
   "outputs": [],
   "source": [
    "etfs = pd.read_csv(\"data/etf_list.csv\", encoding=\"cp949\")\n",
    "\n",
    "etfs.head(3)\n",
    "\n",
    "etfs.rename(columns={\"수익률(최근 1년)\" : \"수익률_최근1년\"},inplace=True)"
   ]
  },
  {
   "cell_type": "code",
   "execution_count": null,
   "metadata": {},
   "outputs": [],
   "source": [
    "cursor.execute(\"\"\"\n",
    "    CREATE TABLE ETFs(\n",
    "        종목코드 TEXT PRIMARY KEY,\n",
    "        종목명 TEXT,\n",
    "        상장일 TEXT,\n",
    "        분류체계 TEXT,\n",
    "        운용사 TEXT,\n",
    "        수익률_최근1년 REAL,\n",
    "        기초지수 TEXT,\n",
    "        추적오차 REAL,\n",
    "        순자산총액 REAL,\n",
    "        괴리율 REAL,\n",
    "        변동성 TEXT,\n",
    "        복제방법 TEXT,\n",
    "        총보수 REAL,\n",
    "        과세유형 TEXT\n",
    "        )\n",
    "\"\"\")"
   ]
  },
  {
   "cell_type": "code",
   "execution_count": null,
   "metadata": {},
   "outputs": [],
   "source": [
    "for idx,row in etfs.iterrows():\n",
    "        cursor.execute(\n",
    "            \"INSERT INTO ETFs VALUES (?,?,?,?,?,?,?,?,?,?,?,?,?,?)\",\n",
    "            (\n",
    "                str(row['종목코드']),\n",
    "                str(row['종목명']),\n",
    "                str(row['상장일']),\n",
    "                str(row['분류체계']),\n",
    "                str(row['운용사']),\n",
    "                float(row['수익률_최근1년']) if not pd.isna(row['수익률_최근1년']) else None,\n",
    "                str(row['기초지수']),\n",
    "                float(row['추적오차'])  if not pd.isna(row['추적오차']) else None,\n",
    "                float(row['순자산총액'])  if not pd.isna(row['순자산총액']) else None,\n",
    "                str(row['괴리율']),\n",
    "                str(row['변동성']),\n",
    "                str(row['복제방법']),\n",
    "                float(row['총보수'])  if not pd.isna(row['총보수']) else None,\n",
    "                str(row['과세유형']),\n",
    "            ))\n",
    "\n",
    "conn.commit()"
   ]
  },
  {
   "cell_type": "code",
   "execution_count": null,
   "metadata": {},
   "outputs": [],
   "source": [
    "cursor.execute(\"SELECT * FROM ETFs\")\n",
    "\n",
    "res = cursor.fetchall()\n",
    "\n",
    "print(res)"
   ]
  },
  {
   "cell_type": "code",
   "execution_count": null,
   "metadata": {},
   "outputs": [],
   "source": [
    "embedding = OllamaEmbeddings(model=\"bge-m3:latest\")\n",
    "vector_store = InMemoryVectorStore(\n",
    "    embedding=embedding\n",
    ")\n",
    "\n",
    "\n",
    "_ = vector_store.add_texts(None)\n",
    "retriever = vector_store.as_retriever(\n",
    "    search_type = \"mmr\",\n",
    "    search_kwargs = {'k' : 5}\n",
    ")"
   ]
  }
 ],
 "metadata": {
  "kernelspec": {
   "display_name": "modu-MbrYLrMw-py3.11",
   "language": "python",
   "name": "python3"
  },
  "language_info": {
   "codemirror_mode": {
    "name": "ipython",
    "version": 3
   },
   "file_extension": ".py",
   "mimetype": "text/x-python",
   "name": "python",
   "nbconvert_exporter": "python",
   "pygments_lexer": "ipython3",
   "version": "3.11.9"
  }
 },
 "nbformat": 4,
 "nbformat_minor": 2
}
