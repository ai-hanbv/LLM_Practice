{
 "cells": [
  {
   "cell_type": "code",
   "execution_count": null,
   "metadata": {},
   "outputs": [
    {
     "name": "stdout",
     "output_type": "stream",
     "text": [
      "The following packages are already present in the pyproject.toml and will be skipped:\n",
      "\n",
      "  - langchain_ollama\n",
      "  - langchain_community\n",
      "  - langchain_chroma\n",
      "  - pymupdf\n",
      "\n",
      "If you want to update it to the latest compatible version, you can use `poetry update package`.\n",
      "If you prefer to upgrade it to the latest available version, you can use `poetry add package@latest`.\n",
      "\n",
      "Using version ^0.3.8 for langchain-openai\n",
      "\n",
      "Updating dependencies\n",
      "Resolving dependencies...\n",
      "\n",
      "Package operations: 5 installs, 0 updates, 0 removals\n",
      "\n",
      "  - Installing jiter (0.9.0)\n",
      "  - Installing regex (2024.11.6)\n",
      "  - Installing openai (1.66.3)\n",
      "  - Installing tiktoken (0.9.0)\n",
      "  - Installing langchain-openai (0.3.8)\n",
      "\n",
      "Writing lock file\n"
     ]
    }
   ],
   "source": [
    "!poetry add langchain_ollama langchain_community langchain_chroma pymupdf langchain_openai python-dotenv"
   ]
  },
  {
   "cell_type": "code",
   "execution_count": 7,
   "metadata": {},
   "outputs": [
    {
     "data": {
      "text/plain": [
       "True"
      ]
     },
     "execution_count": 7,
     "metadata": {},
     "output_type": "execute_result"
    }
   ],
   "source": [
    "from langchain_ollama import OllamaLLM, OllamaEmbeddings\n",
    "from langchain_openai import ChatOpenAI, OpenAIEmbeddings\n",
    "from langchain_core.prompts import ChatPromptTemplate, load_prompt\n",
    "from langchain_core.runnables import RunnablePassthrough\n",
    "from langchain_chroma import Chroma\n",
    "from langchain_community.document_loaders import PyMuPDFLoader\n",
    "from langchain_text_splitters import RecursiveCharacterTextSplitter\n",
    "from dotenv import load_dotenv\n",
    "\n",
    "load_dotenv()"
   ]
  },
  {
   "cell_type": "code",
   "execution_count": null,
   "metadata": {},
   "outputs": [],
   "source": [
    "retriever_setting = [\n",
    "    {\"k\" : 10}, #opt_1\n",
    "    {\"k\" : 10, \"fecth_k\" : 12}, #opt2\n",
    "    {\"k\" : 10, \"fecth_k\" : 12, \"lambda_mult\" : 0.7}, #opt3\n",
    "\n",
    "]"
   ]
  },
  {
   "cell_type": "code",
   "execution_count": 5,
   "metadata": {},
   "outputs": [],
   "source": [
    "docs_path = \"./docs/T-Series Subsea_OpMan_12.pdf\"\n",
    "emdedding_model = \"bge-m3:latest\"\n",
    "llm_model = \"gemma3:4b\"\n",
    "prompt_path = \"./prompt/manual.yaml\"\n",
    "openai_llm = \"gpt-4o-mini\"\n",
    "openai_embedding = \"text-embedding-3-large\""
   ]
  },
  {
   "cell_type": "code",
   "execution_count": 9,
   "metadata": {},
   "outputs": [],
   "source": [
    "loader = PyMuPDFLoader(docs_path)\n",
    "\n",
    "splitter = RecursiveCharacterTextSplitter(\n",
    "    chunk_size = 800, \n",
    "    chunk_overlap = 150\n",
    "    )\n",
    "\n",
    "\n",
    "document = loader.load()\n",
    "splitted_document = splitter.split_documents(document)"
   ]
  },
  {
   "cell_type": "code",
   "execution_count": 24,
   "metadata": {},
   "outputs": [],
   "source": [
    "llm = OllamaLLM(model=llm_model)\n",
    "\n",
    "embedding = OllamaEmbeddings(model=emdedding_model)\n",
    "\n",
    "prompt = load_prompt(prompt_path)\n",
    "\n",
    "vector_store = Chroma(\n",
    "    collection_name=\"mbes_db\",\n",
    "    embedding_function=embedding,\n",
    "    persist_directory=\"./database\"\n",
    ")\n",
    "\n",
    "basic_mmr_retriever = vector_store.as_retriever(\n",
    "    search_type = \"mmr\",\n",
    "    search_kwargs = {\"k\" : 10,}\n",
    "    )"
   ]
  },
  {
   "cell_type": "code",
   "execution_count": 25,
   "metadata": {},
   "outputs": [],
   "source": [
    "llm = ChatOpenAI(model=openai_llm)\n",
    "\n",
    "embedding = OllamaEmbeddings(model=emdedding_model)\n",
    "\n",
    "prompt = load_prompt(prompt_path)\n",
    "\n",
    "vector_store = Chroma(\n",
    "    collection_name=\"mbes_db\",\n",
    "    embedding_function=embedding,\n",
    "    persist_directory=\"./database\"\n",
    ")\n",
    "\n",
    "basic_mmr_retriever = vector_store.as_retriever(\n",
    "    search_type = \"similarity\",\n",
    "    search_kwargs = {\"k\" : 50,}\n",
    "    )"
   ]
  },
  {
   "cell_type": "code",
   "execution_count": null,
   "metadata": {},
   "outputs": [],
   "source": [
    "vector_store.from_documents(\n",
    "    documents=splitted_document,\n",
    "    embedding=embedding,\n",
    "    collection_name=\"mbes_db\",\n",
    "    persist_directory=\"./database\"\n",
    ")"
   ]
  },
  {
   "cell_type": "code",
   "execution_count": null,
   "metadata": {},
   "outputs": [],
   "source": []
  },
  {
   "cell_type": "code",
   "execution_count": 11,
   "metadata": {},
   "outputs": [
    {
     "name": "stdout",
     "output_type": "stream",
     "text": [
      "input_variables=['equipment'] input_types={} partial_variables={} template='\\n**[Goal]**  \\nCreate a structured manual specifically focusing on the software initialization and configuration procedures for {equipment}. The manual should guide users clearly from the initial software launch through necessary settings adjustments, and include situational setting instructions based solely on software operations.\\n\\n**[Constraints]**  \\n- Only information provided by RAG documents is allowed.  \\n  (Do not add any data not explicitly mentioned in the RAG.)\\n- Structure must follow a clear, logical, and sequential manual format.\\n- Hardware operation or non-software related details must not be included.\\n- Prepare the structure and content first in English, then translate the final output into clear, understandable Korean for easy comprehension by Korean users.\\n\\n**[Required Manual Structure]**\\n\\n1. **Software Initialization Procedure**\\n  - Starting the software (step-by-step launch instructions)\\n  - Login and initial authentication process (if applicable)\\n  - Overview of initial interface and basic navigation\\n\\n2. **Basic Configuration Setup**\\n  - Initial software parameter settings\\n  - Default configuration recommendations\\n  - Step-by-step guidance for basic adjustments\\n\\n3. **Situational Software Configuration**\\n  - Different setting scenarios and conditions clearly categorized\\n  - Specific configuration steps for common operational cases\\n  - Recommended software settings per each scenario/situation\\n\\n4. **Verification of Software Readiness**\\n  - Checking correct software setup status\\n  - Confirming settings are correctly applied and active\\n  - Final checklist prior to beginning equipment operation\\n\\n5. **Software Troubleshooting** *(if included in RAG documents)*\\n  - Typical setup errors and solutions (software only)\\n  - Quick-reference troubleshooting steps for software-related issues\\n\\n---\\n\\n**[Output Language Instruction]**  \\nTranslate and clearly present the structured manual output in Korean, ensuring readability and ease of understanding for Korean-speaking users.\\n'\n"
     ]
    }
   ],
   "source": [
    "print(prompt)"
   ]
  },
  {
   "cell_type": "code",
   "execution_count": 26,
   "metadata": {},
   "outputs": [],
   "source": [
    "chain = (\n",
    "    {\n",
    "        \"context\" : basic_mmr_retriever,\n",
    "        \"equipment\" : RunnablePassthrough() \n",
    "        } |\n",
    "    prompt |\n",
    "    llm\n",
    ")"
   ]
  },
  {
   "cell_type": "code",
   "execution_count": 27,
   "metadata": {},
   "outputs": [],
   "source": [
    "res = chain.invoke(\"T-50s\")"
   ]
  },
  {
   "cell_type": "code",
   "execution_count": 28,
   "metadata": {},
   "outputs": [
    {
     "name": "stdout",
     "output_type": "stream",
     "text": [
      "### SeaBat T-Series Subsea Software Setup Manual\n",
      "\n",
      "1. Execute the software \"Sonarsis\" for the T-50s equipment.\n",
      "2. Click the [Setup] menu from the main screen.\n",
      "3. Press the [New Config] button to add a new configuration.\n",
      "4. Click the [New Project] button to create a new project.\n",
      "5. Enter your desired project name into the [Project Name] field, then click the [Confirm] button.\n",
      "6. In the [Preferences] menu, configure the settings as follows:\n",
      "   - Navigate to the [Network] tab, enter the appropriate IP address and DNS settings.\n",
      "   - Open the [Config] tab and input GPS coordinates and configure motion sensor settings based on your project requirements.\n",
      "7. After all required settings are configured, click the [Apply] button to apply changes and then click the [Save] button to store these settings.\n",
      "8. Once all configurations are complete, click [Exit] to close the settings menu. \n",
      "\n",
      "Always follow these steps to ensure successful configuration of the SeaBat T-Series Subsea system software.\n"
     ]
    }
   ],
   "source": [
    "print(res.content)"
   ]
  }
 ],
 "metadata": {
  "kernelspec": {
   "display_name": "manual-ai-RXjSXZM5-py3.11",
   "language": "python",
   "name": "python3"
  },
  "language_info": {
   "codemirror_mode": {
    "name": "ipython",
    "version": 3
   },
   "file_extension": ".py",
   "mimetype": "text/x-python",
   "name": "python",
   "nbconvert_exporter": "python",
   "pygments_lexer": "ipython3",
   "version": "3.11.9"
  }
 },
 "nbformat": 4,
 "nbformat_minor": 2
}
